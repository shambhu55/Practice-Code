{
 "cells": [
  {
   "cell_type": "markdown",
   "metadata": {},
   "source": [
    "Calendar Module\n",
    "The calendar module allows you to output calendars and provides additional useful functions for them.\n",
    "\n",
    "class calendar.TextCalendar([firstweekday])\n",
    "\n",
    "This class can be used to generate plain text calendars.\n",
    "\n",
    "Sample Code\n",
    "\n",
    ">>> import calendar\n",
    ">>> \n",
    ">>> print calendar.TextCalendar(firstweekday=6).formatyear(2015)\n",
    "                                  2015\n",
    "\n",
    "      January                   February                   March\n",
    "Su Mo Tu We Th Fr Sa      Su Mo Tu We Th Fr Sa      Su Mo Tu We Th Fr Sa\n",
    "             1  2  3       1  2  3  4  5  6  7       1  2  3  4  5  6  7\n",
    " 4  5  6  7  8  9 10       8  9 10 11 12 13 14       8  9 10 11 12 13 14\n",
    "11 12 13 14 15 16 17      15 16 17 18 19 20 21      15 16 17 18 19 20 21\n",
    "18 19 20 21 22 23 24      22 23 24 25 26 27 28      22 23 24 25 26 27 28\n",
    "25 26 27 28 29 30 31                                29 30 31\n",
    "\n",
    "       April                      May                       June\n",
    "Su Mo Tu We Th Fr Sa      Su Mo Tu We Th Fr Sa      Su Mo Tu We Th Fr Sa\n",
    "          1  2  3  4                      1  2          1  2  3  4  5  6\n",
    " 5  6  7  8  9 10 11       3  4  5  6  7  8  9       7  8  9 10 11 12 13\n",
    "12 13 14 15 16 17 18      10 11 12 13 14 15 16      14 15 16 17 18 19 20\n",
    "19 20 21 22 23 24 25      17 18 19 20 21 22 23      21 22 23 24 25 26 27\n",
    "26 27 28 29 30            24 25 26 27 28 29 30      28 29 30\n",
    "                          31\n",
    "\n",
    "        July                     August                  September\n",
    "Su Mo Tu We Th Fr Sa      Su Mo Tu We Th Fr Sa      Su Mo Tu We Th Fr Sa\n",
    "          1  2  3  4                         1             1  2  3  4  5\n",
    " 5  6  7  8  9 10 11       2  3  4  5  6  7  8       6  7  8  9 10 11 12\n",
    "12 13 14 15 16 17 18       9 10 11 12 13 14 15      13 14 15 16 17 18 19\n",
    "19 20 21 22 23 24 25      16 17 18 19 20 21 22      20 21 22 23 24 25 26\n",
    "26 27 28 29 30 31         23 24 25 26 27 28 29      27 28 29 30\n",
    "                          30 31\n",
    "\n",
    "      October                   November                  December\n",
    "Su Mo Tu We Th Fr Sa      Su Mo Tu We Th Fr Sa      Su Mo Tu We Th Fr Sa\n",
    "             1  2  3       1  2  3  4  5  6  7             1  2  3  4  5\n",
    " 4  5  6  7  8  9 10       8  9 10 11 12 13 14       6  7  8  9 10 11 12\n",
    "11 12 13 14 15 16 17      15 16 17 18 19 20 21      13 14 15 16 17 18 19\n",
    "18 19 20 21 22 23 24      22 23 24 25 26 27 28      20 21 22 23 24 25 26\n",
    "25 26 27 28 29 30 31      29 30                     27 28 29 30 31\n",
    "Task\n",
    "You are given a date. Your task is to find what the day is on that date.\n",
    "\n",
    "Input Format\n",
    "A single line of input containing the space-separated month, day, and year, respectively, in  MM DD YYYY  format.\n",
    "\n",
    "Constraints\n",
    "2000 < year < 3000\n",
    "\n",
    "Output Format\n",
    "Output the correct day in capital letters.\n",
    "\n",
    "Sample Input\n",
    "08 05 2015\n",
    "Sample Output\n",
    "WEDNESDAY\n",
    "Explanation\n",
    "The day on August 5th 2015 was WEDNESDAY."
   ]
  },
  {
   "cell_type": "code",
   "execution_count": 2,
   "metadata": {},
   "outputs": [
    {
     "name": "stdout",
     "output_type": "stream",
     "text": [
      "WEDNESDAY\n"
     ]
    }
   ],
   "source": [
    "import calendar\n",
    "month, day, year = list(map(int,input().split()))   #08 05 2015\n",
    "ans = calendar.weekday(year, month, day)\n",
    "print((calendar.day_name[ans]).upper())"
   ]
  }
 ],
 "metadata": {
  "kernelspec": {
   "display_name": "Python 3",
   "language": "python",
   "name": "python3"
  },
  "language_info": {
   "codemirror_mode": {
    "name": "ipython",
    "version": 3
   },
   "file_extension": ".py",
   "mimetype": "text/x-python",
   "name": "python",
   "nbconvert_exporter": "python",
   "pygments_lexer": "ipython3",
   "version": "3.9.6"
  }
 },
 "nbformat": 4,
 "nbformat_minor": 2
}
