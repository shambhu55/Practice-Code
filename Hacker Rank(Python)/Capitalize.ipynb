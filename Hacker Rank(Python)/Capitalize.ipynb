{
 "cells": [
  {
   "cell_type": "markdown",
   "metadata": {},
   "source": [
    "Task\n",
    "You are asked to ensure that the first and last names of people begin with a capital letter in their passports. For example, alison heck should be capitalised correctly as Alison Heck.\n",
    "\n",
    "alison heck  – Alison Heck\n",
    "\n",
    "Given a full name, your task is to capitalize the name appropriately.\n",
    "\n",
    "Input Format\n",
    "A single line of input containing the full name, S.\n",
    "\n",
    "Constraints\n",
    "0 < len(S) < 1000\n",
    "\n",
    "The string consists of alphanumeric characters and spaces.\n",
    "\n",
    "Note: in a word only the first character is capitalized. Example 12abc when capitalized remains 12abc.\n",
    "\n",
    "Output Format\n",
    "Print the capitalized string, S.\n",
    "\n",
    "Sample Input\n",
    "chris alan\n",
    "Sample Output\n",
    "Chris Alan\n"
   ]
  },
  {
   "cell_type": "code",
   "execution_count": 6,
   "metadata": {},
   "outputs": [],
   "source": [
    "def solve(s):\n",
    "    ans = s.split(' ')\n",
    "    ans1 = (((i.capitalize() for i in ans)))\n",
    "    return ' '.join(ans1)"
   ]
  }
 ],
 "metadata": {
  "kernelspec": {
   "display_name": "Python 3",
   "language": "python",
   "name": "python3"
  },
  "language_info": {
   "codemirror_mode": {
    "name": "ipython",
    "version": 3
   },
   "file_extension": ".py",
   "mimetype": "text/x-python",
   "name": "python",
   "nbconvert_exporter": "python",
   "pygments_lexer": "ipython3",
   "version": "3.9.6"
  }
 },
 "nbformat": 4,
 "nbformat_minor": 2
}
