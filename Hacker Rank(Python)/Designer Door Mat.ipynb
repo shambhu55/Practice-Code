{
 "cells": [
  {
   "cell_type": "markdown",
   "metadata": {},
   "source": [
    "Task\n",
    "Mr. Vincent works in a door mat manufacturing company. One day, he designed a new door mat with the following specifications:\n",
    "\n",
    "Mat size must be N X M. (N is an odd natural number, and M is 3 times N.)\n",
    "The design should have ‘WELCOME’ written in the center.\n",
    "The design pattern should only use |, . and – characters.\n",
    "\n",
    "Sample Designs\n",
    "Size: 7 x 21 \n",
    "    ---------.|.---------\n",
    "    ------.|..|..|.------\n",
    "    ---.|..|..|..|..|.---\n",
    "    -------WELCOME-------\n",
    "    ---.|..|..|..|..|.---\n",
    "    ------.|..|..|.------\n",
    "    ---------.|.---------\n",
    "    \n",
    "    Size: 11 x 33\n",
    "    ---------------.|.---------------\n",
    "    ------------.|..|..|.------------\n",
    "    ---------.|..|..|..|..|.---------\n",
    "    ------.|..|..|..|..|..|..|.------\n",
    "    ---.|..|..|..|..|..|..|..|..|.---\n",
    "    -------------WELCOME-------------\n",
    "    ---.|..|..|..|..|..|..|..|..|.---\n",
    "    ------.|..|..|..|..|..|..|.------\n",
    "    ---------.|..|..|..|..|.---------\n",
    "    ------------.|..|..|.------------\n",
    "    ---------------.|.---------------\n",
    "Input Format\n",
    "A single line containing the space-separated values of N and M.\n",
    "\n",
    "Constraints\n",
    "5 < N < 101\n",
    "\n",
    "15 < M < 303\n",
    "\n",
    "Output Format\n",
    "Output the design pattern.\n",
    "\n",
    "Sample Input\n",
    "9 27\n",
    "Sample Output\n",
    "------------.|.------------\n",
    "---------.|..|..|.---------\n",
    "------.|..|..|..|..|.------\n",
    "---.|..|..|..|..|..|..|.---\n",
    "----------WELCOME----------\n",
    "---.|..|..|..|..|..|..|.---\n",
    "------.|..|..|..|..|.------\n",
    "---------.|..|..|.---------\n",
    "------------.|.------------\n"
   ]
  },
  {
   "cell_type": "code",
   "execution_count": 2,
   "metadata": {},
   "outputs": [
    {
     "name": "stdout",
     "output_type": "stream",
     "text": [
      "------------.|.------------\n",
      "---------.|..|..|.---------\n",
      "------.|..|..|..|..|.------\n",
      "---.|..|..|..|..|..|..|.---\n",
      "----------WELCOME----------\n",
      "---.|..|..|..|..|..|..|.---\n",
      "------.|..|..|..|..|.------\n",
      "---------.|..|..|.---------\n",
      "------------.|.------------\n"
     ]
    }
   ],
   "source": [
    "n, m = map(int,input().split())\n",
    "for i in range(n//2):\n",
    "    j = int((2*i)+1)\n",
    "    print(('.|.'*j).center(m, '-'))\n",
    "print('WELCOME'.center(m,'-'))\n",
    "for i in reversed(range(n//2)):\n",
    "    j = int((2*i)+1)\n",
    "    print(('.|.'*j).center(m, '-'))"
   ]
  }
 ],
 "metadata": {
  "kernelspec": {
   "display_name": "Python 3",
   "language": "python",
   "name": "python3"
  },
  "language_info": {
   "codemirror_mode": {
    "name": "ipython",
    "version": 3
   },
   "file_extension": ".py",
   "mimetype": "text/x-python",
   "name": "python",
   "nbconvert_exporter": "python",
   "pygments_lexer": "ipython3",
   "version": "3.9.6"
  }
 },
 "nbformat": 4,
 "nbformat_minor": 2
}
