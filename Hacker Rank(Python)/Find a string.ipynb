{
 "cells": [
  {
   "cell_type": "markdown",
   "metadata": {},
   "source": [
    "Task\n",
    "In this challenge, the user enters a string and a substring. You have to print the number of times that the substring occurs in the given string. String traversal will take place from left to right, not from right to left.\n",
    "\n",
    "NOTE: String letters are case-sensitive.\n",
    "\n",
    "Input Format\n",
    "The first line of input contains the original string. The next line contains the substring.\n",
    "\n",
    "Constraints\n",
    "1 <= len(string) <= 200\n",
    "Each character in the string is an ascii character.\n",
    "\n",
    "Output Format\n",
    "Output the integer number indicating the total number of occurrences of the substring in the original string.\n",
    "\n",
    "Sample Input 0:\n",
    "\n",
    "ABCDCDC\n",
    "CDC\n",
    "\n",
    "\n",
    "Sample Output 0:\n",
    "\n",
    "2\n",
    "\n",
    "\n",
    "Concept\n",
    "Some string processing examples, such as these, might be useful.\n",
    "There are a couple of new concepts:\n",
    "In Python, the length of a string is found by the function len(s), where s is the string.\n",
    "To traverse through the length of a string, use a for loop:\n",
    "\n",
    "\n",
    "for i in range(0, len(s)):\n",
    "    print (s[i])\n",
    "\n",
    "A range function is used to loop over some length:\n",
    "range (0, 5) \n",
    "\n",
    "Here, the range loops over 0 to 4. 5 is excluded."
   ]
  },
  {
   "cell_type": "code",
   "execution_count": 1,
   "metadata": {},
   "outputs": [
    {
     "name": "stdout",
     "output_type": "stream",
     "text": [
      "2\n"
     ]
    }
   ],
   "source": [
    "def count_substring(string, sub_string):\n",
    "    total = 0\n",
    "    for i in range(len(string)):\n",
    "        if string[i:len(string)].startswith(sub_string):\n",
    "            total += 1\n",
    "    return total\n",
    "\n",
    "if __name__ == '__main__':\n",
    "    string = input().strip()\n",
    "    sub_string = input().strip()\n",
    "    \n",
    "    count = count_substring(string, sub_string)\n",
    "    print(count)"
   ]
  }
 ],
 "metadata": {
  "kernelspec": {
   "display_name": "Python 3",
   "language": "python",
   "name": "python3"
  },
  "language_info": {
   "codemirror_mode": {
    "name": "ipython",
    "version": 3
   },
   "file_extension": ".py",
   "mimetype": "text/x-python",
   "name": "python",
   "nbconvert_exporter": "python",
   "pygments_lexer": "ipython3",
   "version": "3.9.6"
  }
 },
 "nbformat": 4,
 "nbformat_minor": 2
}
