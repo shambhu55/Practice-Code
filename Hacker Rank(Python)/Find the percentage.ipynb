{
 "cells": [
  {
   "cell_type": "markdown",
   "metadata": {},
   "source": [
    "Question: Python Find the Percentage [Basic Data Types]\n",
    "The provided code stub will read in a dictionary containing key/value pairs of name:[marks] for a list of students. Print the average of the marks array for the student name provided, showing 2 places after the decimal.\n",
    "\n",
    "Example:\n",
    "\n",
    "marks key : value pairs are\n",
    "\n",
    "‘alpha’ : [20, 30, 40]\n",
    "\n",
    "‘beta’ : [30, 50, 70]\n",
    "\n",
    "query_name : ‘beta’\n",
    "\n",
    "\n",
    "The query_name is ‘beta’. beta’s average score is (30 + 50 + 70) / 3 = 50.0.\n",
    "\n",
    "Input format:\n",
    "\n",
    "The first line contains the integer n, the number of students’ records. The next n lines contain the names and marks obtained by a student, each value separated by a space. The final line contains query_name, the name of a student to query.\n",
    "\n",
    "Constraints:\n",
    "\n",
    "2 <= n <= 10\n",
    "0 <= marks[i] <= 100\n",
    "length of marks array = 3\n",
    "Output Format:\n",
    "\n",
    "Print one line: The average of the marks obtained by the particular student correct to 2 decimal places."
   ]
  },
  {
   "cell_type": "code",
   "execution_count": null,
   "metadata": {},
   "outputs": [],
   "source": [
    "if __name__ == '__main__':\n",
    "    n = int(input())\n",
    "    student_marks = {}\n",
    "    for _ in range(n):\n",
    "        name, *line = input().split()\n",
    "        scores = list(map(float, line))\n",
    "        student_marks[name] = scores\n",
    "    query_name = input()\n",
    "    scores = student_marks[query_name]\n",
    "    average = sum(scores) / len(scores)\n",
    "    print(\"{:.2f}\".format(average))\n"
   ]
  }
 ],
 "metadata": {
  "language_info": {
   "name": "python"
  }
 },
 "nbformat": 4,
 "nbformat_minor": 2
}
