{
 "cells": [
  {
   "cell_type": "markdown",
   "metadata": {},
   "source": [
    "Given the participants' score sheet for your University Sports Day, you are required to find the runner-up score. You are given n scores. Store them in a list and find the score of the runner-up.\n",
    "\n",
    "Input Format:\n",
    "The first line contains n. The second line contains an array A[]  of n integers each separated by a space.\n",
    "\n",
    "Output Format:\n",
    "Print the runner-up score.\n",
    "\n",
    "Sample Input:\n",
    "5\n",
    "2 3 6 6 5\n",
    "\n",
    "Sample Output:\n",
    "5"
   ]
  },
  {
   "cell_type": "code",
   "execution_count": 11,
   "metadata": {},
   "outputs": [
    {
     "name": "stdout",
     "output_type": "stream",
     "text": [
      "5\n"
     ]
    }
   ],
   "source": [
    "# Input\n",
    "n = int(input())  # number of scores\n",
    "scores = list(map(int, input().split()))  # list of scores\n",
    "\n",
    "# Finding the runner-up score\n",
    "max_score = max(scores)  # find the maximum score\n",
    "runner_up = -101  # initialize runner-up score (out of score range assumption)\n",
    "\n",
    "# Removing the maximum score\n",
    "for score in scores:\n",
    "    if score != max_score:\n",
    "        runner_up = max(runner_up, score)  # find the runner-up score\n",
    "\n",
    "# Output\n",
    "print(runner_up)\n"
   ]
  }
 ],
 "metadata": {
  "kernelspec": {
   "display_name": "Python 3",
   "language": "python",
   "name": "python3"
  },
  "language_info": {
   "codemirror_mode": {
    "name": "ipython",
    "version": 3
   },
   "file_extension": ".py",
   "mimetype": "text/x-python",
   "name": "python",
   "nbconvert_exporter": "python",
   "pygments_lexer": "ipython3",
   "version": "3.9.6"
  }
 },
 "nbformat": 4,
 "nbformat_minor": 2
}
