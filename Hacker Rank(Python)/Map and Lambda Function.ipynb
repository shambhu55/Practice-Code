{
 "cells": [
  {
   "cell_type": "markdown",
   "metadata": {},
   "source": [
    "Let’s learn some new Python concepts! You have to generate a list of the first N Fibonacci numbers, 0 being the first number. Then, apply the map function and a lambda expression to cube each Fibonacci number and print the list.\n",
    "\n",
    "Concept:\n",
    "\n",
    "The map() function applies a function to every member of an iterable and returns the result. It takes two parameters: first, the function that is to be applied, and second, the iterables.\n",
    "Let’s say you are given a list of names, and you have to print a list that contains the length of each name.\n",
    "\n",
    "python\n",
    "\n",
    "print (list(map(len, ['Tina', 'Raj', 'Tom'])))  \n",
    "[4, 3, 3]  \n",
    "\n",
    "\n",
    "\n",
    "Lambda is a single expression anonymous function often used as an inline function. In simple words, it is a function that has only one line in its body. It proves very handy in functional and GUI programming.\n",
    "\n",
    "python\n",
    "\n",
    "sum = lambda a, b, c: a + b + c\n",
    "sum(1, 2, 3)\n",
    "6\n",
    "Lambda functions cannot use the return statement and can only have a single expression. Unlike def, which creates a function and assigns it a name, lambda creates a function and returns the function itself. Lambda can be used inside lists and dictionaries\n",
    "\n",
    "Input format:\n",
    "\n",
    "One line of input: an integer N.\n",
    "\n",
    "Constraints:\n",
    "\n",
    "0 <= N <= 15\n",
    "\n",
    "Output format:\n",
    "\n",
    "A list on a single line containing the cubes of the first N Fibonacci numbers.\n",
    "\n",
    "Sample input:\n",
    "\n",
    "python\n",
    "\n",
    "5\n",
    "Sample output:\n",
    "\n",
    "bash\n",
    "\n",
    "[0, 1, 1, 8, 27]\n",
    "The first 5 fibonacci numbers are [0, 1, 1, 2, 3], and their cubes are [0, 1, 1, 8, 27]."
   ]
  },
  {
   "cell_type": "code",
   "execution_count": 3,
   "metadata": {},
   "outputs": [
    {
     "name": "stdout",
     "output_type": "stream",
     "text": [
      "[0, 1, 1, 8, 27]\n"
     ]
    }
   ],
   "source": [
    "# Lambda function to find the cube of function \n",
    "cube = lambda x: pow(x,3)\n",
    "\n",
    "\n",
    "def fibonacci(n):\n",
    "    # return a list of fibonacci numbers\n",
    "    lis = [0,1]\n",
    "    \n",
    "    # for loop starting from 2\n",
    "    for i in range(2,n):\n",
    "        lis.append(lis[i-2] + lis[i-1])\n",
    "    return(lis[0:n])\n",
    "\n",
    "\n",
    "if __name__ == '__main__':\n",
    "    n = int(input())\n",
    "    print(list(map(cube, fibonacci(n))))"
   ]
  }
 ],
 "metadata": {
  "kernelspec": {
   "display_name": "Python 3",
   "language": "python",
   "name": "python3"
  },
  "language_info": {
   "codemirror_mode": {
    "name": "ipython",
    "version": 3
   },
   "file_extension": ".py",
   "mimetype": "text/x-python",
   "name": "python",
   "nbconvert_exporter": "python",
   "pygments_lexer": "ipython3",
   "version": "3.9.6"
  }
 },
 "nbformat": 4,
 "nbformat_minor": 2
}
