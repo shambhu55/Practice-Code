{
 "cells": [
  {
   "cell_type": "markdown",
   "metadata": {},
   "source": [
    "Task\n",
    "Read a given string, change the character at a given index and then print the modified string.\n",
    "\n",
    "Function Description\n",
    "Complete the mutate_string function in the editor below.\n",
    "mutate_string has the following parameters:\n",
    "\n",
    "string string: the string to change\n",
    "\n",
    "int position: the index to insert the character at\n",
    "\n",
    "string character: the character to insert\n",
    "\n",
    "Returns\n",
    "string: the altered string\n",
    "\n",
    "Input Format\n",
    "The first line contains a string, string .\n",
    "The next line contains an integer position, the index location, and a string character separated by a space.\n",
    "\n",
    "Sample Input 0\n",
    "STDIN           Function\n",
    "-----           --------\n",
    "abracadabra     s = 'abracadabra'\n",
    "5 k             position = 5, character = 'k'\n",
    "Sample Output 0\n",
    "abrackdabra"
   ]
  },
  {
   "cell_type": "code",
   "execution_count": 2,
   "metadata": {},
   "outputs": [
    {
     "name": "stdout",
     "output_type": "stream",
     "text": [
      "abrackdabra\n"
     ]
    }
   ],
   "source": [
    "def mutate_string(string, position, character):\n",
    "    lst = list(string)\n",
    "    lst[position] = character\n",
    "    string = \"\".join(lst)\n",
    "    return string\n",
    "\n",
    "if __name__ == '__main__':\n",
    "    s = input()\n",
    "    i, c = input().split()\n",
    "    s_new = mutate_string(s, int(i), c)\n",
    "    print(s_new)"
   ]
  }
 ],
 "metadata": {
  "kernelspec": {
   "display_name": "Python 3",
   "language": "python",
   "name": "python3"
  },
  "language_info": {
   "codemirror_mode": {
    "name": "ipython",
    "version": 3
   },
   "file_extension": ".py",
   "mimetype": "text/x-python",
   "name": "python",
   "nbconvert_exporter": "python",
   "pygments_lexer": "ipython3",
   "version": "3.9.6"
  }
 },
 "nbformat": 4,
 "nbformat_minor": 2
}
