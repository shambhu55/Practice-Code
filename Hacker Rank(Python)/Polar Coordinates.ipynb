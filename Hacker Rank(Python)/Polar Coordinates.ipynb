{
 "cells": [
  {
   "cell_type": "markdown",
   "metadata": {},
   "source": [
    "Polar coordinates are an alternative way of representing Cartesian coordinates or Complex Numbers.\n",
    "\n",
    "A complex number z: z = x+yj\n",
    "\n",
    "is completely determined by its real part x and imaginary part y.\n",
    "Here, j is the imaginary unit.\n",
    "\n",
    "\n",
    "\n",
    "A polar coordinate (r,p) is completely determined by modulus r and phase angle p.\n",
    "\n",
    "If we convert complex number z to its polar coordinate, we find:\n",
    "\n",
    "r: Distance from z to origin, i.e., √x2+y2\n",
    "\n",
    "p: Counter clockwise angle measured from the positive x-axis to the line segment that joins z to the origin.\n",
    "\n",
    "Python's cmath module provides access to the mathematical functions for complex numbers.\n",
    "\n",
    "cmath.python\n",
    "\n",
    "This tool returns the phase of the complex number z (also known as the argument of z).\n",
    "\n",
    ">>> phase(complex(-1.0, 0.0))\n",
    "3.1415926535897931\n",
    "abs\n",
    "\n",
    "This tool returns the modulus (absolute value) of the complex number z.\n",
    "\n",
    ">>> abs(complex(-1.0, 0.0))\n",
    "1.0\n",
    "Task\n",
    "You are given a complex z. Your task is to convert it to polar coordinates.\n",
    "\n",
    "Input Format\n",
    "A single line containing the complex number z. Note: complex() function can be used in python to convert the input as a complex number.\n",
    "\n",
    "Constraints\n",
    "Given number is a valid complex number\n",
    "\n",
    "Output Format\n",
    "Output two lines:\n",
    "\n",
    "The first line should contain the value of r.\n",
    "\n",
    "The second line should contain the value of p.\n",
    "\n",
    "Sample Input\n",
    "  1+2j\n",
    "Sample Output\n",
    " 2.23606797749979 \n",
    " 1.1071487177940904\n",
    "Note: The output should be correct up to 3 decimal places."
   ]
  },
  {
   "cell_type": "code",
   "execution_count": 1,
   "metadata": {},
   "outputs": [
    {
     "name": "stdout",
     "output_type": "stream",
     "text": [
      "2.23606797749979\n",
      "1.1071487177940904\n"
     ]
    }
   ],
   "source": [
    "import cmath\n",
    "n = input()\n",
    "s = complex(n)\n",
    "print(abs(s))\n",
    "print(cmath.phase(s))"
   ]
  }
 ],
 "metadata": {
  "kernelspec": {
   "display_name": "Python 3",
   "language": "python",
   "name": "python3"
  },
  "language_info": {
   "codemirror_mode": {
    "name": "ipython",
    "version": 3
   },
   "file_extension": ".py",
   "mimetype": "text/x-python",
   "name": "python",
   "nbconvert_exporter": "python",
   "pygments_lexer": "ipython3",
   "version": "3.9.6"
  }
 },
 "nbformat": 4,
 "nbformat_minor": 2
}
