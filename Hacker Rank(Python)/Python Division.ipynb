{
 "cells": [
  {
   "cell_type": "markdown",
   "metadata": {},
   "source": [
    "Task\n",
    "The provided code stub reads two integers, a and b, from STDIN.\n",
    "\n",
    "\n",
    "Add logic to print two lines. The first line should contain the result of integer division, a//b. The second line should contain the result of float division, a/b.\n",
    "\n",
    "\n",
    "No rounding or formatting is necessary.\n",
    "\n",
    "\n",
    "Example:\n",
    "\n",
    "The result of the integer division 3//5=0.\n",
    "The result of the float division is 3/5=0.6"
   ]
  },
  {
   "cell_type": "code",
   "execution_count": 4,
   "metadata": {},
   "outputs": [
    {
     "name": "stdout",
     "output_type": "stream",
     "text": [
      "The result of the integer division:  0\n",
      "The result of the float division: 0.6\n"
     ]
    }
   ],
   "source": [
    "if __name__ == '__main__':\n",
    "    a = int(input())\n",
    "    b = int(input())\n",
    "    \n",
    "    print(\"The result of the integer division: \", int(a//b))\n",
    "    print(\"The result of the float division:\", float(a/b))\n"
   ]
  }
 ],
 "metadata": {
  "kernelspec": {
   "display_name": "Python 3",
   "language": "python",
   "name": "python3"
  },
  "language_info": {
   "codemirror_mode": {
    "name": "ipython",
    "version": 3
   },
   "file_extension": ".py",
   "mimetype": "text/x-python",
   "name": "python",
   "nbconvert_exporter": "python",
   "pygments_lexer": "ipython3",
   "version": "3.9.6"
  }
 },
 "nbformat": 4,
 "nbformat_minor": 2
}
