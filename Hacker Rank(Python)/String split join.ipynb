{
 "cells": [
  {
   "cell_type": "markdown",
   "metadata": {},
   "source": [
    "In Python, a string can be split on a delimiter.\n",
    "\n",
    "Example:\n",
    "\n",
    ">>> a = \"this is a string\"\n",
    "\n",
    ">>> a = a.split(\" \") # a is converted to a list of strings. \n",
    "\n",
    ">>> print a\n",
    "\n",
    "['this', 'is', 'a', 'string']\n",
    "Joining a string is simple:\n",
    "\n",
    "\n",
    ">>> a = \"-\".join(a)\n",
    "\n",
    ">>> print a\n",
    "\n",
    "this-is-a-string \n",
    "\n",
    "\n",
    "\n",
    "Task:\n",
    "You are given a string. Split the string on a \" \" (space) delimiter and join using a - hyphen.\n",
    "\n",
    "\n",
    "Function Description:\n",
    "\n",
    "Complete the split_and_join function in the editor below.\n",
    "\n",
    "\n",
    "split_and_join has the following parameters:\n",
    "\n",
    "string line: a string of space-separated words\n",
    "Returns\n",
    "\n",
    "\n",
    "string: the resulting string\n",
    "\n",
    "\n",
    "Input Format:\n",
    "The one line contains a string consisting of space separated words.\n",
    "\n",
    "Sample Input:\n",
    "this is a string\n",
    "\n",
    "\n",
    "Sample Output:\n",
    "this-is-a-string"
   ]
  },
  {
   "cell_type": "code",
   "execution_count": 1,
   "metadata": {},
   "outputs": [
    {
     "name": "stdout",
     "output_type": "stream",
     "text": [
      "this-is-a-string\n"
     ]
    }
   ],
   "source": [
    "\n",
    "def split_and_join(line):\n",
    "    words = line.split()\n",
    "    return '-'.join(words)\n",
    "\n",
    "if __name__ == '__main__':\n",
    "    line = input()      #this is a string \n",
    "    result = split_and_join(line)\n",
    "    print(result)\n"
   ]
  }
 ],
 "metadata": {
  "kernelspec": {
   "display_name": "Python 3",
   "language": "python",
   "name": "python3"
  },
  "language_info": {
   "codemirror_mode": {
    "name": "ipython",
    "version": 3
   },
   "file_extension": ".py",
   "mimetype": "text/x-python",
   "name": "python",
   "nbconvert_exporter": "python",
   "pygments_lexer": "ipython3",
   "version": "3.9.6"
  }
 },
 "nbformat": 4,
 "nbformat_minor": 2
}
