{
 "cells": [
  {
   "cell_type": "markdown",
   "metadata": {},
   "source": [
    "Task\n",
    "Given 2 sets of integers, M and N, print their symmetric difference in ascending order. The term symmetric difference indicates those values that exist in either M or N but do not exist in both.\n",
    "\n",
    "Input Format\n",
    "The first line of input contains an integer, M.\n",
    "The second line contains M space-separated integers.\n",
    "The third line contains an integer, N.\n",
    "The fourth line contains N space-separated integers.\n",
    "\n",
    "Output Format\n",
    "Output the symmetric difference integers in ascending order, one per line.\n",
    "\n",
    "Sample Input\n",
    "STDIN       Function\n",
    "-----       --------\n",
    "4           set a size M = 4\n",
    "2 4 5 9     a = {2, 4, 5, 9}\n",
    "4           set b size N = 4\n",
    "2 4 11 12   b = {2, 4, 11, 12}\n",
    "Sample Output\n",
    "5\n",
    "9\n",
    "11\n",
    "12"
   ]
  },
  {
   "cell_type": "code",
   "execution_count": 1,
   "metadata": {},
   "outputs": [
    {
     "name": "stdout",
     "output_type": "stream",
     "text": [
      "5\n",
      "9\n",
      "11\n",
      "12\n"
     ]
    }
   ],
   "source": [
    "n1 = int(input())\n",
    "set_a = set(map(int,input().split()))\n",
    "n2 = int(input())\n",
    "set_b = set(map(int,input().split()))\n",
    "a = (set_a.difference(set_b))\n",
    "b = (set_b.difference(set_a))\n",
    "ans = a.union(b)\n",
    "for i in sorted(ans):\n",
    "        print (i)"
   ]
  }
 ],
 "metadata": {
  "kernelspec": {
   "display_name": "Python 3",
   "language": "python",
   "name": "python3"
  },
  "language_info": {
   "codemirror_mode": {
    "name": "ipython",
    "version": 3
   },
   "file_extension": ".py",
   "mimetype": "text/x-python",
   "name": "python",
   "nbconvert_exporter": "python",
   "pygments_lexer": "ipython3",
   "version": "3.9.6"
  }
 },
 "nbformat": 4,
 "nbformat_minor": 2
}
