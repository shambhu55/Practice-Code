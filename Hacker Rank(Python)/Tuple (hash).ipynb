{
 "cells": [
  {
   "cell_type": "markdown",
   "metadata": {},
   "source": [
    "Task:\n",
    "\n",
    "Given an integer, n, and n space-separated integers as input, create a tuple, t, of those n integers. Then compute and print the result of hash(t).\n",
    "\n",
    "Note: hash() is one of the functions in the __builtins__ module, so it need not be imported.\n",
    "\n",
    "Input Format:\n",
    "\n",
    "The first line contains an integer, n, denoting the number of elements in the tuple.\n",
    "The second line contains n space-separated integers describing the elements in tuple t.\n",
    "\n",
    "\n",
    "Output Format:\n",
    "Print the result of hash(t).\n",
    "\n",
    "\n",
    "Sample Input 0:\n",
    "\n",
    "2\n",
    "\n",
    "1 2\n",
    "\n",
    "\n",
    "Sample Output 0:\n",
    "\n",
    "3713081631934410656"
   ]
  },
  {
   "cell_type": "code",
   "execution_count": 2,
   "metadata": {},
   "outputs": [
    {
     "name": "stdout",
     "output_type": "stream",
     "text": [
      "-860454829093830431\n"
     ]
    }
   ],
   "source": [
    "if __name__ == '__main__':\n",
    "    n = int(input())\n",
    "    integer_list = map(int, input().split())\n",
    "    \n",
    "    t=tuple(integer_list)\n",
    "    result=hash(t)\n",
    "    print(result)"
   ]
  }
 ],
 "metadata": {
  "kernelspec": {
   "display_name": "Python 3",
   "language": "python",
   "name": "python3"
  },
  "language_info": {
   "codemirror_mode": {
    "name": "ipython",
    "version": 3
   },
   "file_extension": ".py",
   "mimetype": "text/x-python",
   "name": "python",
   "nbconvert_exporter": "python",
   "pygments_lexer": "ipython3",
   "version": "3.9.6"
  }
 },
 "nbformat": 4,
 "nbformat_minor": 2
}
