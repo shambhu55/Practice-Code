{
 "cells": [
  {
   "cell_type": "markdown",
   "metadata": {},
   "source": [
    "Python has built-in string validation methods for basic data. It can check if a string is composed of alphabetical characters, alphanumeric characters, digits, etc.\n",
    "\n",
    "str.isalnum()\n",
    "\n",
    "This method checks if all the characters of a string are alphanumeric (a-z, A-Z and 0-9).\n",
    "\n",
    ">>> print 'ab123'.isalnum()\n",
    "True\n",
    ">>> print 'ab123#'.isalnum()\n",
    "False\n",
    "str.isalpha()\n",
    "\n",
    "This method checks if all the characters of a string are alphabetical (a-z and A-Z).\n",
    "\n",
    ">>> print 'abcD'.isalpha()\n",
    "True\n",
    ">>> print 'abcd1'.isalpha()\n",
    "False\n",
    "str.isdigit()\n",
    "\n",
    "This method checks if all the characters of a string are digits (0-9).\n",
    "\n",
    ">>> print '1234'.isdigit()\n",
    "True\n",
    ">>> print '123edsd'.isdigit()\n",
    "False\n",
    "str.islower()\n",
    "\n",
    "This method checks if all the characters of a string are lowercase characters (a-z).\n",
    "\n",
    ">>> print 'abcd123#'.islower()\n",
    "True\n",
    ">>> print 'Abcd123#'.islower()\n",
    "False\n",
    "str.isupper()\n",
    "\n",
    "This method checks if all the characters of a string are uppercase characters (A-Z).\n",
    "\n",
    ">>> print 'ABCD123#'.isupper()\n",
    "True\n",
    ">>> print 'Abcd123#'.isupper()\n",
    "False\n",
    "Task\n",
    "You are given a string S.\n",
    "\n",
    "Your task is to find out if the string S contains: alphanumeric characters, alphabetical characters, digits, lowercase and uppercase characters.\n",
    "\n",
    "Input Format\n",
    "A single line containing a string S.\n",
    "\n",
    "Constraints\n",
    "0 < len(S) < 1000\n",
    "\n",
    "Output Format\n",
    "In the first line, print True if S has any alphanumeric characters. Otherwise, print False.\n",
    "\n",
    "In the second line, print True if S has any alphabetical characters. Otherwise, print False.\n",
    "\n",
    "In the third line, print True if S has any digits. Otherwise, print False.\n",
    "\n",
    "In the fourth line, print True if S has any lowercase characters. Otherwise, print False.\n",
    "\n",
    "In the fifth line, print True if S has any uppercase characters. Otherwise, print False.\n",
    "\n",
    "Sample Input 0:\n",
    "\n",
    "qA2\n",
    "\n",
    "\n",
    "Sample Output 0:\n",
    "\n",
    "True\n",
    "True\n",
    "True\n",
    "True\n",
    "True"
   ]
  },
  {
   "cell_type": "code",
   "execution_count": 1,
   "metadata": {},
   "outputs": [
    {
     "name": "stdout",
     "output_type": "stream",
     "text": [
      "True\n",
      "True\n",
      "True\n",
      "True\n",
      "True\n"
     ]
    }
   ],
   "source": [
    "if __name__ == '__main__':\n",
    "    s = input()\n",
    "    print(any(i.isalnum() for i in s) )\n",
    "    print(any(i.isalpha() for i in s) )\n",
    "    print(any(i.isdigit() for i in s) )\n",
    "    print(any(i.islower() for i in s) )\n",
    "    print(any(i.isupper() for i in s) )"
   ]
  }
 ],
 "metadata": {
  "kernelspec": {
   "display_name": "Python 3",
   "language": "python",
   "name": "python3"
  },
  "language_info": {
   "codemirror_mode": {
    "name": "ipython",
    "version": 3
   },
   "file_extension": ".py",
   "mimetype": "text/x-python",
   "name": "python",
   "nbconvert_exporter": "python",
   "pygments_lexer": "ipython3",
   "version": "3.9.6"
  }
 },
 "nbformat": 4,
 "nbformat_minor": 2
}
