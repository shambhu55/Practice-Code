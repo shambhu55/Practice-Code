{
 "cells": [
  {
   "cell_type": "markdown",
   "metadata": {},
   "source": [
    "collections.Counter()\n",
    "A counter is a container that stores elements as dictionary keys, and their counts are stored as dictionary values.\n",
    "\n",
    "Sample Code\n",
    "\n",
    ">>> from collections import Counter\n",
    ">>> \n",
    ">>> myList = [1,1,2,3,4,5,3,2,3,4,2,1,2,3]\n",
    ">>> print Counter(myList)\n",
    "Counter({2: 4, 3: 4, 1: 3, 4: 2, 5: 1})\n",
    ">>>\n",
    ">>> print Counter(myList).items()\n",
    "[(1, 3), (2, 4), (3, 4), (4, 2), (5, 1)]\n",
    ">>> \n",
    ">>> print Counter(myList).keys()\n",
    "[1, 2, 3, 4, 5]\n",
    ">>> \n",
    ">>> print Counter(myList).values()\n",
    "[3, 4, 4, 2, 1]\n",
    "Task\n",
    "Raghu is a shoe shop owner. His shop has X number of shoes.\n",
    "\n",
    "He has a list containing the size of each shoe he has in his shop.\n",
    "\n",
    "There are N number of customers who are willing to pay xi amount of money only if they get the shoe of their desired size.\n",
    "\n",
    "Your task is to compute how much money Raghu earned.\n",
    "\n",
    "Input Form at\n",
    "The first line contains X, the number of shoes.\n",
    "\n",
    "The second line contains the space-separated list of all the shoe sizes in the shop.\n",
    "\n",
    "The third line contains N, the number of customers.\n",
    "\n",
    "The next N lines contain the space-separated values of the shoe size desired by the customer and xi, the price of the shoe. \n",
    "\n",
    "Constraints\n",
    "0 < X < 10^3\n",
    "0 < N <= 10^3\n",
    "20 < xi < 100\n",
    "2 < shoe size < 20\n",
    "\n",
    "Output Format\n",
    "Print the amount of money earned by Raghu.\n",
    "\n",
    "Sample Input\n",
    "10\n",
    "2 3 4 5 6 8 7 6 5 18\n",
    "6\n",
    "6 55\n",
    "6 45\n",
    "6 55\n",
    "4 40\n",
    "18 60\n",
    "10 50\n",
    "Sample Output\n",
    "\n",
    "200\n",
    "Explanation\n",
    "Customer 1: Purchased size 6 shoe for $55.\n",
    "\n",
    "Customer 2: Purchased size 6 shoe for $45.\n",
    "\n",
    "Customer 3: Size 6 no longer available, so no purchase.\n",
    "\n",
    "Customer 4: Purchased size 4 shoe for $40.\n",
    "\n",
    "Customer 5: Purchased size 18 shoe for $60.\n",
    "\n",
    "Customer 6: Size 10 not available, so no purchase.\n",
    "\n",
    "Total money earned = 55 + 45 + 40 + 60 = $200"
   ]
  },
  {
   "cell_type": "code",
   "execution_count": 1,
   "metadata": {},
   "outputs": [
    {
     "name": "stdout",
     "output_type": "stream",
     "text": [
      "200\n"
     ]
    }
   ],
   "source": [
    "from collections import Counter\n",
    "x = int(input())\n",
    "y = Counter(map(int, input().split()))\n",
    "z = int(input())\n",
    "\n",
    "total = 0\n",
    "for i in range(z):\n",
    "    size, rate = map(int, input().split())\n",
    "    if y[size]: \n",
    "        y[size] -= 1\n",
    "        total += rate\n",
    "print(total)"
   ]
  }
 ],
 "metadata": {
  "kernelspec": {
   "display_name": "Python 3",
   "language": "python",
   "name": "python3"
  },
  "language_info": {
   "codemirror_mode": {
    "name": "ipython",
    "version": 3
   },
   "file_extension": ".py",
   "mimetype": "text/x-python",
   "name": "python",
   "nbconvert_exporter": "python",
   "pygments_lexer": "ipython3",
   "version": "3.9.6"
  }
 },
 "nbformat": 4,
 "nbformat_minor": 2
}
