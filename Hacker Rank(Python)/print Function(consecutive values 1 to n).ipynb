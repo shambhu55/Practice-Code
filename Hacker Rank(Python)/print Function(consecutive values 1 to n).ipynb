{
 "cells": [
  {
   "cell_type": "markdown",
   "metadata": {},
   "source": [
    "The included code stub will read an integer,n, from STDIN.\n",
    "\n",
    "Without using any string methods, try to print the following:\n",
    "\n",
    "123...n\n",
    "\n",
    "Note that \"...\" represents the consecutive values in between.\n",
    "\n",
    "\n",
    "\n",
    "Example\n",
    "\n",
    "n=5\n",
    "\n",
    "Print the string 12345."
   ]
  },
  {
   "cell_type": "code",
   "execution_count": 1,
   "metadata": {},
   "outputs": [
    {
     "name": "stdout",
     "output_type": "stream",
     "text": [
      "12345"
     ]
    }
   ],
   "source": [
    "if __name__ == '__main__':\n",
    "    n = int(input())\n",
    "\n",
    "if 1<+n<+150:\n",
    "    for i in range(1, n+1):\n",
    "        print(i, end='')\n"
   ]
  }
 ],
 "metadata": {
  "kernelspec": {
   "display_name": "Python 3",
   "language": "python",
   "name": "python3"
  },
  "language_info": {
   "codemirror_mode": {
    "name": "ipython",
    "version": 3
   },
   "file_extension": ".py",
   "mimetype": "text/x-python",
   "name": "python",
   "nbconvert_exporter": "python",
   "pygments_lexer": "ipython3",
   "version": "3.9.6"
  }
 },
 "nbformat": 4,
 "nbformat_minor": 2
}
